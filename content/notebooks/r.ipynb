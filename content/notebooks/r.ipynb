{
  "cells": [
    {
      "cell_type": "markdown",
      "id": "468b7fa2-408d-4065-8735-8dc3cab58c74",
      "metadata": {},
      "source": [
        "# XEUS-R"
      ]
    },
    {
      "cell_type": "code",
      "execution_count": null,
      "id": "175fcf93-4b7f-4765-89c9-9bdca7d6f469",
      "metadata": {
        "trusted": true,
        "vscode": {
          "languageId": "r"
        }
      },
      "outputs": [],
      "source": [
        "R.version"
      ]
    },
    {
      "cell_type": "markdown",
      "id": "a355914b-ed67-4936-a2b5-1c3a0ec9655a",
      "metadata": {},
      "source": [
        "## Internal packages"
      ]
    },
    {
      "cell_type": "code",
      "execution_count": null,
      "id": "2dff9d90-c55a-4a60-a22f-4b3f6dd3484a",
      "metadata": {
        "trusted": true,
        "vscode": {
          "languageId": "r"
        }
      },
      "outputs": [],
      "source": [
        "library(stats)\n",
        "\n",
        "set.seed(123)\n",
        "x <- rnorm(100)\n",
        "y <- 2 * x + rnorm(100)\n",
        "\n",
        "# Linear regression\n",
        "model <- lm(y ~ x)\n",
        "summary(model)"
      ]
    },
    {
      "cell_type": "code",
      "execution_count": null,
      "id": "59d690ab-f7ba-4154-9552-bc676ce3f274",
      "metadata": {
        "trusted": true,
        "vscode": {
          "languageId": "r"
        }
      },
      "outputs": [],
      "source": [
        "A <- matrix(c(1, 2, 3, 4, 5, 6), nrow = 3, ncol = 2)\n",
        "\n",
        "# Singular value decomposition\n",
        "svd_result <- La.svd(A)\n",
        "\n",
        "print(svd_result)"
      ]
    },
    {
      "cell_type": "code",
      "execution_count": null,
      "id": "3c6fa0e1-dc7b-4e10-a904-1f974a2b0d1f",
      "metadata": {
        "trusted": true,
        "vscode": {
          "languageId": "r"
        }
      },
      "outputs": [],
      "source": [
        "A <- matrix(c(4, 1, 1, 3), nrow = 2, byrow = TRUE)\n",
        "\n",
        "# Eigen decomposition\n",
        "eigen_result <- eigen(A)\n",
        "\n",
        "print(eigen_result$values)\n",
        "\n",
        "print(eigen_result$vectors)"
      ]
    },
    {
      "cell_type": "code",
      "execution_count": null,
      "id": "7b7f6f8d",
      "metadata": {
        "trusted": true,
        "vscode": {
          "languageId": "r"
        }
      },
      "outputs": [],
      "source": [
        "# Example positive-definite matrix\n",
        "A <- matrix(c(4, 1, 1, 3), nrow = 2, byrow = TRUE)\n",
        "\n",
        "# Cholesky decomposition\n",
        "chol_result <- chol(A)\n",
        "\n",
        "print(chol_result)"
      ]
    },
    {
      "cell_type": "code",
      "execution_count": null,
      "id": "87db7910",
      "metadata": {
        "trusted": true,
        "vscode": {
          "languageId": "r"
        }
      },
      "outputs": [],
      "source": [
        "B <- matrix(c(1, 2, 3, 4, 5, 6), nrow = 3, ncol = 2)\n",
        "C <- matrix(c(7, 8, 9, 10, 11, 12), nrow = 3, ncol = 2)\n",
        "\n",
        "# Perform matrix multiplication using BLAS\n",
        "result <- crossprod(B, C)\n",
        "\n",
        "print(result)"
      ]
    },
    {
      "cell_type": "code",
      "execution_count": null,
      "id": "329b3298",
      "metadata": {
        "trusted": true,
        "vscode": {
          "languageId": "r"
        }
      },
      "outputs": [],
      "source": [
        "# Fibonacci sequence\n",
        "fibonacci_loop <- function(n) {\n",
        "    a <- 0\n",
        "    b <- 1\n",
        "\n",
        "    for (i in 1:n) {\n",
        "        fib <- a\n",
        "        cat(fib, \"\\n\")\n",
        "        a <- b\n",
        "        b <- fib + b\n",
        "    }\n",
        "    return(a)\n",
        "}\n",
        "\n",
        "fibonacci_loop(10)"
      ]
    },
    {
      "cell_type": "markdown",
      "id": "44e749f8",
      "metadata": {
        "vscode": {
          "languageId": "plaintext"
        }
      },
      "source": [
        "## Other R Packages"
      ]
    },
    {
      "cell_type": "code",
      "execution_count": null,
      "id": "83b0ab14",
      "metadata": {
        "trusted": true,
        "vscode": {
          "languageId": "r"
        }
      },
      "outputs": [],
      "source": [
        "library(RColorBrewer)\n",
        "palette <- brewer.pal(8, \"Set3\")\n",
        "print(palette)"
      ]
    },
    {
      "cell_type": "code",
      "execution_count": null,
      "id": "1d1974e2",
      "metadata": {
        "trusted": true,
        "vscode": {
          "languageId": "r"
        }
      },
      "outputs": [],
      "source": [
        "library(crayon)\n",
        "\n",
        "# Create colorful text\n",
        "red_text <- red(\"This is red text\")\n",
        "green_text <- green(\"This is green text\")\n",
        "blue_text <- blue(\"This is blue text\")\n",
        "bold_text <- bold(\"This is bold text\")\n",
        "underline_text <- underline(\"This is underlined text\")\n",
        "\n",
        "cat(red_text, \"\\n\")\n",
        "cat(green_text, \"\\n\")\n",
        "cat(blue_text, \"\\n\")\n",
        "cat(bold_text, \"\\n\")\n",
        "cat(underline_text, \"\\n\")"
      ]
    },
    {
      "cell_type": "code",
      "execution_count": null,
      "id": "1b513ed3",
      "metadata": {
        "trusted": true,
        "vscode": {
          "languageId": "r"
        }
      },
      "outputs": [],
      "source": [
        "library(htmltools)\n",
        "\n",
        "# Create HMTL elements\n",
        "title <- tags$title(\"My HTML Page\")\n",
        "header <- tags$h1(\"Hello there!\")\n",
        "paragraph <- tags$p(\"This is a paragraph created using htmltools.\")\n",
        "list_items <- tags$ul(tags$li(\"Item 1\"), tags$li(\"Item 2\"), tags$li(\"Item 3\"))\n",
        "\n",
        "# Combine elements into an HTML document\n",
        "html_doc <- tags$html(\n",
        "    tags$head(title),\n",
        "    tags$body(\n",
        "        header,\n",
        "        paragraph,\n",
        "        list_items\n",
        "    )\n",
        ")\n",
        "\n",
        "print(html_doc)"
      ]
    },
    {
      "cell_type": "code",
      "execution_count": null,
      "id": "a0082167",
      "metadata": {
        "trusted": true,
        "vscode": {
          "languageId": "r"
        }
      },
      "outputs": [],
      "source": [
        "library(farver)\n",
        "\n",
        "# Define a color in RBG space\n",
        "rgb_color <- matrix(c(255, 0, 0), ncol = 3)\n",
        "\n",
        "# Convert RGB to HSV\n",
        "hsv_color <- convert_colour(rgb_color, \"rgb\", \"hsv\")\n",
        "\n",
        "# Convert RGB to LAB\n",
        "lab_color <- convert_colour(rgb_color, \"rgb\", \"lab\")\n",
        "\n",
        "print(rgb_color)\n",
        "print(hsv_color)\n",
        "print(lab_color)"
      ]
    },
    {
      "cell_type": "markdown",
      "id": "6424bd62-33e6-4be1-9ee7-abca8bc49a4c",
      "metadata": {
        "trusted": true,
        "vscode": {
          "languageId": "r"
        }
      },
      "source": [
        "## Plotting"
      ]
    },
    {
      "cell_type": "code",
      "execution_count": null,
      "id": "aa1d6411-307c-44c6-8904-4f6d6c6507c2",
      "metadata": {
        "trusted": true,
        "vscode": {
          "languageId": "r"
        }
      },
      "outputs": [],
      "source": [
        "# ggplot2 examples\n",
        "library(ggplot2)"
      ]
    },
    {
      "cell_type": "code",
      "execution_count": null,
      "id": "5e1a09af",
      "metadata": {
        "vscode": {
          "languageId": "r"
        }
      },
      "outputs": [],
      "source": [
        "# create factors with value labels\n",
        "mtcars$gear <- factor(mtcars$gear,levels=c(3,4,5),\n",
        "  \tlabels=c(\"3gears\",\"4gears\",\"5gears\"))\n",
        "mtcars$am <- factor(mtcars$am,levels=c(0,1),\n",
        "  \tlabels=c(\"Automatic\",\"Manual\"))\n",
        "mtcars$cyl <- factor(mtcars$cyl,levels=c(4,6,8),\n",
        "   labels=c(\"4cyl\",\"6cyl\",\"8cyl\"))"
      ]
    },
    {
      "cell_type": "code",
      "execution_count": null,
      "id": "be53d41e",
      "metadata": {
        "vscode": {
          "languageId": "r"
        }
      },
      "outputs": [],
      "source": [
        "# Kernel density plots for mpg\n",
        "# grouped by number of gears (indicated by color)\n",
        "qplot(mpg, data=mtcars, geom=\"density\", fill=gear, alpha=I(.5),\n",
        "   main=\"Distribution of Gas Milage\", xlab=\"Miles Per Gallon\",\n",
        "   ylab=\"Density\")"
      ]
    },
    {
      "cell_type": "code",
      "execution_count": null,
      "id": "70255e62",
      "metadata": {
        "vscode": {
          "languageId": "r"
        }
      },
      "outputs": [],
      "source": [
        "# Scatterplot of mpg vs. hp for each combination of gears and cylinders\n",
        "# in each facet, transmittion type is represented by shape and color\n",
        "qplot(hp, mpg, data=mtcars, shape=am, color=am,\n",
        "   facets=gear~cyl, size=I(3),\n",
        "   xlab=\"Horsepower\", ylab=\"Miles per Gallon\")"
      ]
    },
    {
      "cell_type": "code",
      "execution_count": null,
      "id": "19b00055",
      "metadata": {
        "vscode": {
          "languageId": "r"
        }
      },
      "outputs": [],
      "source": [
        "# Separate regressions of mpg on weight for each number of cylinders\n",
        "qplot(wt, mpg, data=mtcars, geom=c(\"point\", \"smooth\"),\n",
        "   method=\"lm\", formula=y~x, color=cyl,\n",
        "   main=\"Regression of MPG on Weight\",\n",
        "   xlab=\"Weight\", ylab=\"Miles per Gallon\")"
      ]
    },
    {
      "cell_type": "code",
      "execution_count": null,
      "id": "acad8664",
      "metadata": {
        "vscode": {
          "languageId": "r"
        }
      },
      "outputs": [],
      "source": [
        "# Boxplots of mpg by number of gears\n",
        "# observations (points) are overlayed and jittered\n",
        "qplot(gear, mpg, data=mtcars, geom=c(\"boxplot\", \"jitter\"),\n",
        "   fill=gear, main=\"Mileage by Gear Number\",\n",
        "   xlab=\"\", ylab=\"Miles per Gallon\")"
      ]
    }
  ],
  "metadata": {
    "kernelspec": {
      "display_name": "R 4.4.2 (xr)",
      "language": "R",
      "name": "xr"
    },
    "language_info": {
      "codemirror_mode": "",
      "file_extension": "R",
      "mimetype": "text/x-R",
      "name": "R",
      "nbconvert_exporter": "",
      "pygments_lexer": "",
      "version": "4.4.2"
    }
  },
  "nbformat": 4,
  "nbformat_minor": 5
}
